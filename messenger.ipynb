{
 "cells": [
  {
   "cell_type": "markdown",
   "metadata": {},
   "source": [
    "## Facebook Messenger tools\n",
    "\n",
    "I decided to download all my facebook messenger data and explore some of my conversations. This one (with my good friend Dmitri) has been running for around 8 years, so there's plenty of data. "
   ]
  },
  {
   "cell_type": "code",
   "execution_count": 1,
   "metadata": {},
   "outputs": [],
   "source": [
    "import numpy as np\n",
    "import pandas as pd\n",
    "import json\n",
    "from collections import Counter\n",
    "from matplotlib import pyplot as plt\n",
    "import re\n",
    "import glob"
   ]
  },
  {
   "cell_type": "code",
   "execution_count": 2,
   "metadata": {},
   "outputs": [],
   "source": [
    "PATH_TO_CONVERSATIONS = 'data/messages/inbox/'\n",
    "\n",
    "#Function to get all conversation names\n",
    "def get_names():\n",
    "    for p in glob.glob(f'{PATH_TO_CONVERSATIONS}*'):\n",
    "        try:\n",
    "            print(re.search(r'\\\\(.*?)_', p).group(1))\n",
    "        except:\n",
    "            continue"
   ]
  },
  {
   "cell_type": "code",
   "execution_count": 3,
   "metadata": {},
   "outputs": [],
   "source": [
    "#get_names()"
   ]
  },
  {
   "cell_type": "code",
   "execution_count": 4,
   "metadata": {},
   "outputs": [],
   "source": [
    "friend = 'Dmitri'\n",
    "PATH_TO_CONV = glob.glob(f'{PATH_TO_CONVERSATIONS}{friend}*/message.json')[0]\n",
    "with open(PATH_TO_CONV) as f:\n",
    "    data = json.load(f)\n",
    "                                \n",
    "data = pd.DataFrame(data['messages'])"
   ]
  },
  {
   "cell_type": "code",
   "execution_count": 5,
   "metadata": {},
   "outputs": [],
   "source": [
    "data['timestamp'] = pd.to_datetime(data['timestamp_ms'],unit='ms')\n",
    "data = data[['content', 'sender_name', 'timestamp']]\n",
    "\n",
    "data['month'] = data['timestamp'].apply(lambda timestamp: timestamp.month) #add month and year columns\n",
    "data['year'] = data['timestamp'].apply(lambda timestamp: timestamp.year)\n",
    "data['date'] = data['timestamp'].apply(lambda timestamp: timestamp.strftime('%Y-%m-%d'))\n",
    "data['time'] = data['timestamp'].apply(lambda timestamp: timestamp.strftime('%Hh%M'))\n",
    "data['content'] = data['content'].apply(str)\n",
    "\n",
    "\n",
    "#save raw conversation to CSV\n",
    "data.set_index('content').sort_values(by='timestamp', ascending=True).to_csv(f'{friend}.csv')\n",
    "\n",
    "def clean_message(message, rejoin_list=True):  \n",
    "    result = [re.sub('[^a-zA-ZàèéùçâêîôûëïüÿæœÇËÏÜŸÆŒ\\']', '', word) for word in message.split(' ')] #remove bad characters\n",
    "    result = [word.lower() for word in result if len(word)<=20] #remove long words (URLs etc), make all characters lower case\n",
    "    if rejoin_list==True:\n",
    "        return ' '.join(result)\n",
    "    else:\n",
    "        return result\n",
    "\n",
    "def rejoin(message):\n",
    "    return ' '.join(message)\n",
    "\n",
    "def rename(name):\n",
    "    if name=='Simon Roberts':\n",
    "        return 'Simon'\n",
    "    else:\n",
    "        return friend\n",
    "     \n",
    "data['sender_name'] = data['sender_name'].apply(rename)\n",
    "data['content'] = data['content'].apply(clean_message, rejoin_list=True)\n",
    "data['content_list'] = data['content'].apply(clean_message, rejoin_list=False)\n",
    "data['length'] = data['content'].apply(len)\n",
    "data = data[data['content_list'].apply(len)<200]  #Drop messages of more than 100 words (likely to be copy/paste from elsewhere)"
   ]
  },
  {
   "cell_type": "code",
   "execution_count": 6,
   "metadata": {},
   "outputs": [],
   "source": [
    "#Plot the use of a given word per month/year. When word is 'all', messages can be counted instead of words\n",
    "def plot_word(person, word, mode='messages', precision='month', save=False):\n",
    "\n",
    "    if word !='all' and mode == 'words':\n",
    "        print('Warning : showing word sum of messages containing target word. Use \\'messages\\' for this functionality\\n')\n",
    "    fig = plt.figure(figsize=(30,6))\n",
    "    \n",
    "    #Get lines for the target person\n",
    "    if person=='all':\n",
    "        usage = data\n",
    "    else:\n",
    "        usage = data[data['sender_name']==person]\n",
    "\n",
    "    #Granularity for grouping (precision)\n",
    "    if precision == 'month':\n",
    "        grouping = ['year', 'month']\n",
    "    elif precision == 'year':\n",
    "        grouping = 'year'\n",
    "\n",
    "    #Get either all messages or all messages containing word\n",
    "    if word=='all':\n",
    "        usage = usage.sort_values(by=['year', 'month'], ascending=[True,True]).groupby(grouping)\n",
    "    else:\n",
    "        usage = usage[usage['content_list'].apply(lambda words: word.lower() in words)]\n",
    "\n",
    "        earliest = usage[usage.timestamp==usage.timestamp.min()]\n",
    "        latest = usage[usage.timestamp==usage.timestamp.max()]\n",
    "        print(f'First use : {earliest.sender_name.values[0]}, {earliest.date.values[0]} @ {earliest.time.values[0]} : {earliest.content.values[0]}')\n",
    "        print(f'Last use : {latest.sender_name.values[0]}, {latest.date.values[0]} @ {latest.time.values[0]}: {latest.content.values[0]}')\n",
    "        print(f'Number of uses = {len(usage)}')\n",
    "\n",
    "        usage = usage.sort_values(by=['year', 'month'], ascending=[True,True]).groupby(grouping)\n",
    "        \n",
    "    if mode == 'messages': \n",
    "        usage = usage.count()['length']\n",
    "    elif mode == 'words':\n",
    "        usage  = usage.sum()['length']\n",
    "\n",
    "    plt.title(f'{person}: Total {mode} sent, word = {word}')\n",
    "    usage.plot(kind='bar')\n",
    "    if save==True:\n",
    "        fig.savefig(f'{person}_{word}')"
   ]
  },
  {
   "cell_type": "code",
   "execution_count": 7,
   "metadata": {},
   "outputs": [
    {
     "name": "stdout",
     "output_type": "stream",
     "text": [
      "First use : Dmitri, 2012-03-09 @ 19h35 : how's it going birthday boy\n",
      "Last use : Simon, 2018-11-29 @ 13h28: that was the random wish happy birthday button\n",
      "Number of uses = 22\n"
     ]
    },
    {
     "data": {
      "image/png": "[encoded data removed]",
      "text/plain": [
       "<Figure size 2160x432 with 1 Axes>"
      ]
     },
     "metadata": {
      "needs_background": "light"
     },
     "output_type": "display_data"
    }
   ],
   "source": [
    "plot_word(person = 'all', word = 'birthday', mode = 'messages', precision = 'month', save=False)"
   ]
  },
  {
   "cell_type": "code",
   "execution_count": 8,
   "metadata": {},
   "outputs": [],
   "source": [
    "def get_conversation(date, maxlength=999999): #(YYYY-MM-DD)\n",
    "    conv = data[data['date']==date].sort_values(by='timestamp', ascending=True)[['time', 'sender_name', 'content']].head(maxlength)\n",
    "    if len(conv)==0:\n",
    "        return(f'No conversation on {date}')\n",
    "    else:\n",
    "        return conv"
   ]
  },
  {
   "cell_type": "code",
   "execution_count": 17,
   "metadata": {},
   "outputs": [],
   "source": [
    "#get_conversation('2018-04-02', maxlength=10)"
   ]
  },
  {
   "cell_type": "code",
   "execution_count": 10,
   "metadata": {},
   "outputs": [],
   "source": [
    "def find_word(word, maxlength=999999):\n",
    "    instances = data[data['content_list'].apply(lambda words: word.lower() in words)].sort_values(by='timestamp', ascending=True)[['date', 'sender_name', 'content']].head(maxlength)\n",
    "    if len(instances)==0:\n",
    "        return(f'No instances of word \\'{word}\\' found')\n",
    "    else:\n",
    "        return instances"
   ]
  },
  {
   "cell_type": "code",
   "execution_count": 16,
   "metadata": {},
   "outputs": [],
   "source": [
    "#find_word('birthday', maxlength=10)"
   ]
  },
  {
   "cell_type": "code",
   "execution_count": 12,
   "metadata": {},
   "outputs": [
    {
     "name": "stdout",
     "output_type": "stream",
     "text": [
      "Dmitri has used 14066 unique words from a total 249630 words sent\n",
      "Simon has used 10479 unique words from a total 148603 words sent\n"
     ]
    }
   ],
   "source": [
    "#Get list and set of words for each participant\n",
    "words = {}\n",
    "uniques = {}\n",
    "for name in data['sender_name'].unique():\n",
    "    words[name] = data[data['sender_name']==name]['content_list'].sum()\n",
    "    uniques[name] = set(words[name])\n",
    "    print(f'{name} has used {len(uniques[name])} unique words from a total {len(words[name])} words sent')"
   ]
  },
  {
   "cell_type": "code",
   "execution_count": 13,
   "metadata": {},
   "outputs": [],
   "source": [
    "#Get the n most common words longer than a certain threshold\n",
    "def top_n_uniques(name, n, thresh):\n",
    "    try:\n",
    "        print(f'{name}\\'s top {n} words longer than {thresh} characters:\\n{pd.Series(Counter([word for word in words[name] if len(word)>=thresh]).most_common()[:n])}\\n')\n",
    "    except:\n",
    "        print('Not a valid name')"
   ]
  },
  {
   "cell_type": "code",
   "execution_count": 15,
   "metadata": {},
   "outputs": [
    {
     "name": "stdout",
     "output_type": "stream",
     "text": [
      "Dmitri's top 10 words longer than 10 characters:\n",
      "0    (everything, 145)\n",
      "1    (apparently, 128)\n",
      "2     (definitely, 95)\n",
      "3     (absolutely, 94)\n",
      "4    (interesting, 78)\n",
      "5     (completely, 74)\n",
      "6     (attachment, 66)\n",
      "7     (chippenham, 58)\n",
      "8     (understand, 39)\n",
      "9     (experience, 37)\n",
      "dtype: object\n",
      "\n"
     ]
    }
   ],
   "source": [
    "top_n_uniques('Dmitri', 10, 10)"
   ]
  },
  {
   "cell_type": "code",
   "execution_count": null,
   "metadata": {},
   "outputs": [],
   "source": []
  }
 ],
 "metadata": {
  "kernelspec": {
   "display_name": "Python 3",
   "language": "python",
   "name": "python3"
  },
  "language_info": {
   "codemirror_mode": {
    "name": "ipython",
    "version": 3
   },
   "file_extension": ".py",
   "mimetype": "text/x-python",
   "name": "python",
   "nbconvert_exporter": "python",
   "pygments_lexer": "ipython3",
   "version": "3.6.7"
  }
 },
 "nbformat": 4,
 "nbformat_minor": 2
}
