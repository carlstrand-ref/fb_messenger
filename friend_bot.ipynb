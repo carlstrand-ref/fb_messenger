{
 "cells": [
  {
   "cell_type": "markdown",
   "metadata": {},
   "source": [
    "## Facebook chat friend emulator\n",
    "\n",
    "It's important when arriving in a new city to settle in and make new friends. Taking this last point to heart, I decided to stay in and create a Long Short-Term Memory recurrent neural network for producing sentences in the style of a given facebook friend, based on our message history\n",
    "\n",
    "Apologies in advance to my guinea-pig, Dmitri. I censored the ramblings of your robot self to make sure you didn't say anything too outrageous!\n",
    "\n",
    "TO DO : create chat-bot with a message-response sequence-to-sequence model"
   ]
  },
  {
   "cell_type": "code",
   "execution_count": 1,
   "metadata": {},
   "outputs": [
    {
     "name": "stderr",
     "output_type": "stream",
     "text": [
      "Using TensorFlow backend.\n"
     ]
    }
   ],
   "source": [
    "# keras module for building LSTM \n",
    "from keras.preprocessing.sequence import pad_sequences\n",
    "from keras.layers import Embedding, LSTM, Dense, Dropout\n",
    "from keras.preprocessing.text import Tokenizer\n",
    "from keras.callbacks import EarlyStopping\n",
    "from keras.models import Sequential\n",
    "from keras.models import load_model\n",
    "import keras.utils as ku \n",
    "import json\n",
    "import glob\n",
    "from random import sample\n",
    "\n",
    "# set seeds for reproducability\n",
    "from tensorflow import set_random_seed\n",
    "from numpy.random import seed\n",
    "set_random_seed(2)\n",
    "seed(1)\n",
    "\n",
    "import pandas as pd\n",
    "import numpy as np\n",
    "import string, os \n",
    "\n",
    "import warnings\n",
    "warnings.filterwarnings(\"ignore\")\n",
    "warnings.simplefilter(action='ignore', category=FutureWarning)"
   ]
  },
  {
   "cell_type": "code",
   "execution_count": 2,
   "metadata": {},
   "outputs": [],
   "source": [
    "#Name of friend to emulate and some hyperparameters\n",
    "friend = 'Dmitri'\n",
    "num_messages = 10000    #randomly sample n messages from the friend's corpus\n",
    "max_length = 20         #trim all messages to this many words. Most messages are short, and longer lengthen the training time significantly\n",
    "lstm_size=200           #Size of the  LSTM layer"
   ]
  },
  {
   "cell_type": "code",
   "execution_count": 3,
   "metadata": {},
   "outputs": [],
   "source": [
    "def generate_corpus(friend, num_messages, max_length):\n",
    "\n",
    "    PATH_TO_CONV = glob.glob(f'data/messages/inbox/{friend}*/message.json')[0]  #data has weird names but they start with first name so match\n",
    "    \n",
    "    with open(PATH_TO_CONV) as f:\n",
    "        data = json.load(f)\n",
    "                                \n",
    "    data = pd.DataFrame(data['messages'])\n",
    "\n",
    "    def rename(name):\n",
    "        if name=='Simon Roberts':\n",
    "            return 'Me'\n",
    "        else:\n",
    "            return friend\n",
    "        \n",
    "    def trim_message(message):\n",
    "        trimmed = str(message).split(' ')[:max_length]\n",
    "        return ' '.join(trimmed)\n",
    "    \n",
    "    data['sender_name'] = data['sender_name'].apply(rename)   #rename senders to 'Me' and 'First Name'\n",
    "    data['content'] = data[data['content'].apply(type)==str]['content'] #Only use messages which are strings (so just numbers are dropped)\n",
    "    \n",
    "    messages = data[data['sender_name']==friend]['content'].apply(trim_message)  #trim messages to N words\n",
    "\n",
    "    def clean_text(txt):\n",
    "        txt=str(txt)\n",
    "        txt = \"\".join(v for v in txt if v not in string.punctuation).lower()\n",
    "        txt = txt.encode(\"utf8\").decode(\"ascii\",'ignore')\n",
    "        return txt \n",
    "\n",
    "    return [clean_text(message) for message in sample(list(messages), num_messages)]  #Gets N random messages"
   ]
  },
  {
   "cell_type": "code",
   "execution_count": 9,
   "metadata": {},
   "outputs": [
    {
     "data": {
      "text/plain": [
       "['its the 3rd friday ',\n",
       " 'all of which will have to be corrected before he can get remotely decent',\n",
       " 'admittedly he did finish the game with 8 men ',\n",
       " 'haha',\n",
       " 'like actually insane']"
      ]
     },
     "execution_count": 9,
     "metadata": {},
     "output_type": "execute_result"
    }
   ],
   "source": [
    "#Generate the corpus, and look at a few examples\n",
    "corpus = generate_corpus(friend, num_messages, max_length)\n",
    "corpus[:5]"
   ]
  },
  {
   "cell_type": "code",
   "execution_count": 10,
   "metadata": {},
   "outputs": [],
   "source": [
    "tokenizer = Tokenizer()\n",
    "\n",
    "def get_sequence_of_tokens(corpus):\n",
    "    ## tokenization\n",
    "    tokenizer.fit_on_texts(corpus)\n",
    "    total_words = len(tokenizer.word_index) + 1\n",
    "    \n",
    "    ## convert data to sequence of tokens \n",
    "    input_sequences = []\n",
    "    for line in corpus:\n",
    "        token_list = tokenizer.texts_to_sequences([line])[0]\n",
    "        for i in range(1, len(token_list)):\n",
    "            n_gram_sequence = token_list[:i+1]\n",
    "            input_sequences.append(n_gram_sequence)\n",
    "    return input_sequences, total_words\n",
    "\n",
    "inp_sequences, total_words = get_sequence_of_tokens(corpus)"
   ]
  },
  {
   "cell_type": "code",
   "execution_count": 11,
   "metadata": {},
   "outputs": [],
   "source": [
    "def generate_padded_sequences(input_sequences):\n",
    "    max_sequence_len = max([len(x) for x in input_sequences])\n",
    "    input_sequences = np.array(pad_sequences(input_sequences, maxlen=max_sequence_len, padding='pre'))\n",
    "    \n",
    "    predictors, label = input_sequences[:,:-1],input_sequences[:,-1]\n",
    "    label = ku.to_categorical(label, num_classes=total_words)\n",
    "    return predictors, label, max_sequence_len\n",
    "\n",
    "predictors, label, max_sequence_len = generate_padded_sequences(inp_sequences)"
   ]
  },
  {
   "cell_type": "code",
   "execution_count": 12,
   "metadata": {},
   "outputs": [
    {
     "name": "stdout",
     "output_type": "stream",
     "text": [
      "_________________________________________________________________\n",
      "Layer (type)                 Output Shape              Param #   \n",
      "=================================================================\n",
      "embedding_1 (Embedding)      (None, 23, 16)            120672    \n",
      "_________________________________________________________________\n",
      "lstm_1 (LSTM)                (None, 200)               173600    \n",
      "_________________________________________________________________\n",
      "dropout_1 (Dropout)          (None, 200)               0         \n",
      "_________________________________________________________________\n",
      "dense_1 (Dense)              (None, 7542)              1515942   \n",
      "=================================================================\n",
      "Total params: 1,810,214\n",
      "Trainable params: 1,810,214\n",
      "Non-trainable params: 0\n",
      "_________________________________________________________________\n"
     ]
    }
   ],
   "source": [
    "def create_model(max_sequence_len, total_words):\n",
    "    input_len = max_sequence_len - 1\n",
    "    model = Sequential()\n",
    "    \n",
    "    # Add Input Embedding Layer\n",
    "    model.add(Embedding(total_words, 16, input_length=input_len))    \n",
    "    # Add Hidden Layer 1 - LSTM Layer\n",
    "    model.add(LSTM(lstm_size))            #Larger vocab probably required larger LSTM layer\n",
    "    model.add(Dropout(0.1))    \n",
    "    # Add Output Layer\n",
    "    model.add(Dense(total_words, activation='softmax'))\n",
    "\n",
    "    model.compile(loss='categorical_crossentropy', optimizer='adam')\n",
    "    \n",
    "    return model\n",
    "\n",
    "model = create_model(max_sequence_len, total_words)\n",
    "model.summary()"
   ]
  },
  {
   "cell_type": "code",
   "execution_count": 13,
   "metadata": {},
   "outputs": [
    {
     "name": "stdout",
     "output_type": "stream",
     "text": [
      "Epoch 1/50\n",
      "60983/60983 [==============================] - 14s 223us/step - loss: 7.0052\n",
      "Epoch 2/50\n",
      "60983/60983 [==============================] - 12s 192us/step - loss: 6.6329\n",
      "Epoch 3/50\n",
      "60983/60983 [==============================] - 11s 187us/step - loss: 6.4708\n",
      "Epoch 4/50\n",
      "60983/60983 [==============================] - 11s 188us/step - loss: 6.3194\n",
      "Epoch 5/50\n",
      "60983/60983 [==============================] - 11s 188us/step - loss: 6.1592\n",
      "Epoch 6/50\n",
      "60983/60983 [==============================] - 11s 188us/step - loss: 5.9785\n",
      "Epoch 7/50\n",
      "60983/60983 [==============================] - 12s 193us/step - loss: 5.8179\n",
      "Epoch 8/50\n",
      "60983/60983 [==============================] - 12s 191us/step - loss: 5.6712\n",
      "Epoch 9/50\n",
      "60983/60983 [==============================] - 12s 190us/step - loss: 5.5264\n",
      "Epoch 10/50\n",
      "60983/60983 [==============================] - 12s 190us/step - loss: 5.3839\n",
      "Epoch 11/50\n",
      "60983/60983 [==============================] - 12s 192us/step - loss: 5.2408\n",
      "Epoch 12/50\n",
      "60983/60983 [==============================] - 12s 190us/step - loss: 5.1002\n",
      "Epoch 13/50\n",
      "60983/60983 [==============================] - 12s 189us/step - loss: 4.9643\n",
      "Epoch 14/50\n",
      "60983/60983 [==============================] - 11s 188us/step - loss: 4.8289\n",
      "Epoch 15/50\n",
      "60983/60983 [==============================] - 11s 188us/step - loss: 4.6971\n",
      "Epoch 16/50\n",
      "60983/60983 [==============================] - 11s 188us/step - loss: 4.5685\n",
      "Epoch 17/50\n",
      "60983/60983 [==============================] - 11s 188us/step - loss: 4.4469\n",
      "Epoch 18/50\n",
      "60983/60983 [==============================] - 12s 189us/step - loss: 4.3298\n",
      "Epoch 19/50\n",
      "60983/60983 [==============================] - 12s 189us/step - loss: 4.2181\n",
      "Epoch 20/50\n",
      "60983/60983 [==============================] - 12s 189us/step - loss: 4.1108\n",
      "Epoch 21/50\n",
      "60983/60983 [==============================] - 12s 189us/step - loss: 4.0167\n",
      "Epoch 22/50\n",
      "60983/60983 [==============================] - 11s 188us/step - loss: 3.9244\n",
      "Epoch 23/50\n",
      "60983/60983 [==============================] - 12s 192us/step - loss: 3.8386\n",
      "Epoch 24/50\n",
      "60983/60983 [==============================] - 11s 188us/step - loss: 3.7585\n",
      "Epoch 25/50\n",
      "60983/60983 [==============================] - 12s 189us/step - loss: 3.6861\n",
      "Epoch 26/50\n",
      "60983/60983 [==============================] - 12s 189us/step - loss: 3.6103\n",
      "Epoch 27/50\n",
      "60983/60983 [==============================] - 12s 190us/step - loss: 3.5479\n",
      "Epoch 28/50\n",
      "60983/60983 [==============================] - 12s 191us/step - loss: 3.4812\n",
      "Epoch 29/50\n",
      "60983/60983 [==============================] - 12s 191us/step - loss: 3.4218\n",
      "Epoch 30/50\n",
      "60983/60983 [==============================] - 11s 188us/step - loss: 3.3661\n",
      "Epoch 31/50\n",
      "60983/60983 [==============================] - 12s 191us/step - loss: 3.3104\n",
      "Epoch 32/50\n",
      "60983/60983 [==============================] - 12s 189us/step - loss: 3.2593\n",
      "Epoch 33/50\n",
      "60983/60983 [==============================] - 12s 190us/step - loss: 3.2058\n",
      "Epoch 34/50\n",
      "60983/60983 [==============================] - 12s 190us/step - loss: 3.1598\n",
      "Epoch 35/50\n",
      "60983/60983 [==============================] - 12s 190us/step - loss: 3.1136\n",
      "Epoch 36/50\n",
      "60983/60983 [==============================] - 12s 190us/step - loss: 3.0687\n",
      "Epoch 37/50\n",
      "60983/60983 [==============================] - 12s 190us/step - loss: 3.0276\n",
      "Epoch 38/50\n",
      "60983/60983 [==============================] - 12s 190us/step - loss: 2.9820\n",
      "Epoch 39/50\n",
      "60983/60983 [==============================] - 12s 190us/step - loss: 2.9441\n",
      "Epoch 40/50\n",
      "60983/60983 [==============================] - 12s 191us/step - loss: 2.9017\n",
      "Epoch 41/50\n",
      "60983/60983 [==============================] - 12s 192us/step - loss: 2.8676\n",
      "Epoch 42/50\n",
      "60983/60983 [==============================] - 12s 192us/step - loss: 2.8335\n",
      "Epoch 43/50\n",
      "60983/60983 [==============================] - 12s 190us/step - loss: 2.7962\n",
      "Epoch 44/50\n",
      "60983/60983 [==============================] - 12s 190us/step - loss: 2.7613\n",
      "Epoch 45/50\n",
      "60983/60983 [==============================] - 12s 191us/step - loss: 2.7312\n",
      "Epoch 46/50\n",
      "60983/60983 [==============================] - 12s 190us/step - loss: 2.7000\n",
      "Epoch 47/50\n",
      "60983/60983 [==============================] - 12s 191us/step - loss: 2.6683\n",
      "Epoch 48/50\n",
      "60983/60983 [==============================] - 12s 191us/step - loss: 2.6395\n",
      "Epoch 49/50\n",
      "60983/60983 [==============================] - 12s 191us/step - loss: 2.6096\n",
      "Epoch 50/50\n",
      "60983/60983 [==============================] - 12s 190us/step - loss: 2.5807\n"
     ]
    }
   ],
   "source": [
    "history = model.fit(predictors, label, epochs=50, verbose=1, batch_size = 128)"
   ]
  },
  {
   "cell_type": "code",
   "execution_count": 14,
   "metadata": {},
   "outputs": [],
   "source": [
    "model.save(f'{friend}_{num_messages}messages_{max_length}words_{lstm_size}lstm_model.h5')"
   ]
  },
  {
   "cell_type": "code",
   "execution_count": 15,
   "metadata": {},
   "outputs": [],
   "source": [
    "# A function to generate styled sentences based on a seed phrase\n",
    "def generate_text(seed_text, next_words, model, max_sequence_len):\n",
    "    for _ in range(next_words):\n",
    "        token_list = tokenizer.texts_to_sequences([seed_text])[0]\n",
    "        token_list = pad_sequences([token_list], maxlen=max_sequence_len-1, padding='pre')\n",
    "        predicted = model.predict_classes(token_list, verbose=0)\n",
    "        \n",
    "        output_word = \"\"\n",
    "        for word,index in tokenizer.word_index.items():\n",
    "            if index == predicted:\n",
    "                output_word = word\n",
    "                break\n",
    "        seed_text += \" \"+output_word\n",
    "    return seed_text"
   ]
  },
  {
   "cell_type": "code",
   "execution_count": 29,
   "metadata": {},
   "outputs": [
    {
     "name": "stdout",
     "output_type": "stream",
     "text": [
      "Robo-Dmitri: will be home in 30 mins so i havent just do it at all point at the time of the 10th\n",
      "\n",
      "Robo-Dmitri: have you seen the razer blade pro to get it with a good 1180 key and non margin at offer it or\n",
      "\n",
      "Robo-Dmitri: I dont know how much i was beginning to figure for the beach you at all p and far p than just\n",
      "\n",
      "Robo-Dmitri: when can go to bed at a sensible time but i dont know what i saw it just processed a few weeks\n",
      "\n",
      "Robo-Dmitri: obviously i was just saying i can do it to lose the prize in the way way to fund on a\n",
      "\n",
      "Robo-Dmitri: I was thinking i have a sample of transactions who will be in a small attack to date him to it in a\n",
      "\n"
     ]
    }
   ],
   "source": [
    "#Let's see what he sounds like for some different starting words/phrases!\n",
    "texts = ['will', 'have you', 'I dont', 'when can', 'obviously', 'I was thinking']\n",
    "\n",
    "for text in texts:\n",
    "    print(f'Robo-{friend}: {generate_text(text, 20, model,max_sequence_len)}\\n')"
   ]
  },
  {
   "cell_type": "markdown",
   "metadata": {},
   "source": [
    "This actually sounds a lot like my friend Dmitri!\n",
    "\n",
    "To improve, smileys, standard texts like 'You sent a photo', etc. should either be removed or displayed in their entirety. As it is, we have their artifacts 'p' and 'D' in the results."
   ]
  },
  {
   "cell_type": "code",
   "execution_count": null,
   "metadata": {},
   "outputs": [],
   "source": []
  }
 ],
 "metadata": {
  "kernelspec": {
   "display_name": "Python 3",
   "language": "python",
   "name": "python3"
  },
  "language_info": {
   "codemirror_mode": {
    "name": "ipython",
    "version": 3
   },
   "file_extension": ".py",
   "mimetype": "text/x-python",
   "name": "python",
   "nbconvert_exporter": "python",
   "pygments_lexer": "ipython3",
   "version": "3.6.7"
  }
 },
 "nbformat": 4,
 "nbformat_minor": 2
}
